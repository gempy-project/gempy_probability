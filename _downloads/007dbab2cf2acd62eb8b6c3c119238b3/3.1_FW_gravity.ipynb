{
  "cells": [
    {
      "cell_type": "code",
      "execution_count": null,
      "metadata": {
        "collapsed": false
      },
      "outputs": [],
      "source": [
        "%matplotlib inline\nfrom pyvista import set_plot_theme\nset_plot_theme('document')"
      ]
    },
    {
      "cell_type": "markdown",
      "metadata": {},
      "source": [
        "\n# GemPy 3: gravity inversion for normal fault model\n\nBased on `GemPy3_Tutorial_XX_fault_gravity.ipynb`\n\nFor installation, see the first notebook - here only repeated if running on Google Colab.\n"
      ]
    },
    {
      "cell_type": "code",
      "execution_count": null,
      "metadata": {
        "collapsed": false
      },
      "outputs": [],
      "source": [
        "# Importing GemPy and viewer\nimport gempy as gp\nimport gempy_viewer as gpv\nfrom gempy_engine.core.backend_tensor import BackendTensor"
      ]
    },
    {
      "cell_type": "markdown",
      "metadata": {},
      "source": [
        "And for some additional steps in this notebook:\n%%\nAuxiliary libraries\n\n"
      ]
    },
    {
      "cell_type": "code",
      "execution_count": null,
      "metadata": {
        "collapsed": false
      },
      "outputs": [],
      "source": [
        "import numpy as np\nimport matplotlib.pyplot as plt\nimport pandas as pd\n\nfrom _aux_func import plot_model_and_grav"
      ]
    },
    {
      "cell_type": "markdown",
      "metadata": {},
      "source": [
        "# Step 1: Model setup\n\n"
      ]
    },
    {
      "cell_type": "code",
      "execution_count": null,
      "metadata": {
        "collapsed": false
      },
      "outputs": [],
      "source": [
        "# In a first step, we define the model domain. In the standard setting, this as simple as defining model extent\n# and grid resolution (i.e.: grid elements in each axis direction). We also need to define a structural frame\n# (more on that later) - for now, simply filled with a default structure:"
      ]
    },
    {
      "cell_type": "code",
      "execution_count": null,
      "metadata": {
        "collapsed": false
      },
      "outputs": [],
      "source": [
        "resolution = [150, 10, 150]\nextent = [0, 200, -100, 100, -100, 0]"
      ]
    },
    {
      "cell_type": "markdown",
      "metadata": {},
      "source": [
        "Configure GemPy for geological modeling with PyTorch backend\n\n"
      ]
    },
    {
      "cell_type": "code",
      "execution_count": null,
      "metadata": {
        "collapsed": false
      },
      "outputs": [],
      "source": [
        "BackendTensor.change_backend_gempy(engine_backend=gp.data.AvailableBackends.PYTORCH, dtype=\"float64\")\n\ngeo_model: gp.data.GeoModel = gp.create_geomodel(\n    project_name='Fault model',\n    extent=extent,\n    resolution=resolution,\n    structural_frame=gp.data.StructuralFrame.initialize_default_structure()\n)"
      ]
    },
    {
      "cell_type": "code",
      "execution_count": null,
      "metadata": {
        "collapsed": false
      },
      "outputs": [],
      "source": [
        "interpolation_options = geo_model.interpolation_options\ninterpolation_options.mesh_extraction = True\ninterpolation_options.kernel_options.range = .7\ninterpolation_options.kernel_options.c_o = 3\ninterpolation_options.kernel_options.compute_condition_number = True"
      ]
    },
    {
      "cell_type": "markdown",
      "metadata": {},
      "source": [
        "# Step 2: Add geological data\n\n"
      ]
    },
    {
      "cell_type": "markdown",
      "metadata": {},
      "source": [
        "## Add surface points\n %%\n\n"
      ]
    },
    {
      "cell_type": "code",
      "execution_count": null,
      "metadata": {
        "collapsed": false
      },
      "outputs": [],
      "source": [
        "gp.add_surface_points(\n    geo_model=geo_model,\n    x=[40, 60, 120, 140],\n    y=[0, 0, 0, 0],\n    z=[-50, -50, -60, -60],\n    elements_names=['surface1', 'surface1', 'surface1', 'surface1']\n)\n\ngp.add_orientations(\n    geo_model=geo_model,\n    x=[130],\n    y=[0],\n    z=[-50],\n    elements_names=['surface1'],\n    pole_vector=[[0, 0, 1.]]\n)\n\n# Define second element\nelement2 = gp.data.StructuralElement(\n    name='surface2',\n    color=next(geo_model.structural_frame.color_generator),\n    surface_points=gp.data.SurfacePointsTable.from_arrays(\n        x=np.array([120]),\n        y=np.array([0]),\n        z=np.array([-40]),\n        names='surface2'\n    ),\n    orientations=gp.data.OrientationsTable.initialize_empty()\n)\n\n# Add second element to structural frame\ngeo_model.structural_frame.structural_groups[0].append_element(element2)\n\n# add fault\n# Calculate orientation from point values\nfault_point_1 = (80, -20)\nfault_point_2 = (110, -80)\n\n# calculate angle\nangle = np.arctan((fault_point_2[0] - fault_point_1[0]) / (fault_point_2[1] - fault_point_1[1]))\n\nx = np.cos(angle)\nz = - np.sin(angle)\n\nelement_fault = gp.data.StructuralElement(\n    name='fault1',\n    color=next(geo_model.structural_frame.color_generator),\n    surface_points=gp.data.SurfacePointsTable.from_arrays(\n        x=np.array([fault_point_1[0], fault_point_2[0]]),\n        y=np.array([0, 0]),\n        z=np.array([fault_point_1[1], fault_point_2[1]]),\n        names='fault1'\n    ),\n    orientations=gp.data.OrientationsTable.from_arrays(\n        x=np.array([fault_point_1[0]]),\n        y=np.array([0]),\n        z=np.array([fault_point_1[1]]),\n        G_x=np.array([x]),\n        G_y=np.array([0]),\n        G_z=np.array([z]),\n        names='fault1'\n    )\n)\n\ngroup_fault = gp.data.StructuralGroup(\n    name='Fault1',\n    elements=[element_fault],\n    structural_relation=gp.data.StackRelationType.FAULT,\n    fault_relations=gp.data.FaultsRelationSpecialCase.OFFSET_ALL\n)\n\n# Insert the fault group into the structural frame:\ngeo_model.structural_frame.insert_group(0, group_fault)"
      ]
    },
    {
      "cell_type": "markdown",
      "metadata": {},
      "source": [
        "# Compute model\n %%\n\n"
      ]
    },
    {
      "cell_type": "code",
      "execution_count": null,
      "metadata": {
        "collapsed": false
      },
      "outputs": [],
      "source": [
        "geo_model.update_transform(gp.data.GlobalAnisotropy.NONE)\ngp.compute_model(geo_model)"
      ]
    },
    {
      "cell_type": "markdown",
      "metadata": {},
      "source": [
        "Visualize the computed geological model in 3D\n\n"
      ]
    },
    {
      "cell_type": "code",
      "execution_count": null,
      "metadata": {
        "collapsed": false
      },
      "outputs": [],
      "source": [
        "gempy_vista = gpv.plot_3d(\n    model=geo_model,\n    show=True,\n    kwargs_plot_structured_grid={'opacity': 0.8},\n    image=True\n)"
      ]
    },
    {
      "cell_type": "markdown",
      "metadata": {},
      "source": [
        "Preview the model's input data:\n\n"
      ]
    },
    {
      "cell_type": "code",
      "execution_count": null,
      "metadata": {
        "collapsed": false
      },
      "outputs": [],
      "source": [
        "p2d = gpv.plot_2d(geo_model, show=False)\nplt.grid()\nplt.show()"
      ]
    },
    {
      "cell_type": "markdown",
      "metadata": {},
      "source": [
        "# Calculate gravity\n %%\n\n"
      ]
    },
    {
      "cell_type": "code",
      "execution_count": null,
      "metadata": {
        "collapsed": false
      },
      "outputs": [],
      "source": [
        "BackendTensor.change_backend_gempy(engine_backend=gp.data.AvailableBackends.PYTORCH, dtype=\"float64\")"
      ]
    },
    {
      "cell_type": "markdown",
      "metadata": {},
      "source": [
        "Set device positions\n\n"
      ]
    },
    {
      "cell_type": "code",
      "execution_count": null,
      "metadata": {
        "collapsed": false
      },
      "outputs": [],
      "source": [
        "interesting_columns = pd.DataFrame()\nx_vals = np.arange(20, 191, 10)\ninteresting_columns['X'] = x_vals\ninteresting_columns['Y'] = np.zeros_like(x_vals)\n\n# Configuring the data correctly is key for accurate gravity calculations.\ndevice_location = interesting_columns[['X', 'Y']]\ndevice_location['Z'] = 0  # Add a Z-coordinate\n\n# Set up a centered grid for geophysical calculations\n# This grid will be used for gravity gradient calculations.\ngp.set_centered_grid(\n    grid=geo_model.grid,\n    centers=device_location,\n    resolution=np.array([75, 5, 150]),\n    radius=np.array([150, 10, 300])\n)\n\n# Calculate the gravity gradient using GemPy\n# Gravity gradient data is critical for geophysical modeling and inversion.\ngravity_gradient = gp.calculate_gravity_gradient(geo_model.grid.centered_grid)\n\ndensities_tensor = BackendTensor.t.array([2., 2., 3., 2.])\ndensities_tensor.requires_grad = True\n\n# Set geophysics input for the GemPy model\n# Configuring this input is crucial for the forward gravity calculation.\ngeo_model.geophysics_input = gp.data.GeophysicsInput(\n    tz=BackendTensor.t.array(gravity_gradient),\n    densities=densities_tensor\n)"
      ]
    },
    {
      "cell_type": "markdown",
      "metadata": {},
      "source": [
        "Compute the geological model with geophysical data\nThis computation integrates the geological model with gravity data.\n\n"
      ]
    },
    {
      "cell_type": "code",
      "execution_count": null,
      "metadata": {
        "collapsed": false
      },
      "outputs": [],
      "source": [
        "sol = gp.compute_model(\n    gempy_model=geo_model,\n    engine_config=gp.data.GemPyEngineConfig(\n        backend=gp.data.AvailableBackends.PYTORCH,\n        dtype='float64'\n    )\n)\ngrav = - sol.gravity\ngrav[0].backward()"
      ]
    },
    {
      "cell_type": "code",
      "execution_count": null,
      "metadata": {
        "collapsed": false
      },
      "outputs": [],
      "source": [
        "plt.plot(x_vals, grav.detach().numpy(), '.-')\nplt.xlim([0, 200])\nplt.show()"
      ]
    },
    {
      "cell_type": "markdown",
      "metadata": {},
      "source": [
        "# Plot model and gravity solution\n %%\n\n"
      ]
    },
    {
      "cell_type": "code",
      "execution_count": null,
      "metadata": {
        "collapsed": false
      },
      "outputs": [],
      "source": [
        "input_data = geo_model.surface_points_copy.df\nfig = plot_model_and_grav(\n    blocks=(geo_model.solutions.raw_arrays.lith_block.reshape(resolution)),\n    grav=grav.detach().numpy(),\n    x_vals=x_vals,\n    input_data=input_data\n)\nfig.show()"
      ]
    }
  ],
  "metadata": {
    "kernelspec": {
      "display_name": "Python 3",
      "language": "python",
      "name": "python3"
    },
    "language_info": {
      "codemirror_mode": {
        "name": "ipython",
        "version": 3
      },
      "file_extension": ".py",
      "mimetype": "text/x-python",
      "name": "python",
      "nbconvert_exporter": "python",
      "pygments_lexer": "ipython3",
      "version": "3.10.12"
    }
  },
  "nbformat": 4,
  "nbformat_minor": 0
}