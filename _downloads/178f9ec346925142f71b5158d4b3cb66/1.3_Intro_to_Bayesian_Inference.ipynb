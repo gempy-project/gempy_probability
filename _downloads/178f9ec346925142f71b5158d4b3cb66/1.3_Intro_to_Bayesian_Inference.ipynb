{
  "cells": [
    {
      "cell_type": "code",
      "execution_count": null,
      "metadata": {
        "collapsed": false
      },
      "outputs": [],
      "source": [
        "%matplotlib inline\nfrom pyvista import set_plot_theme\nset_plot_theme('document')"
      ]
    },
    {
      "cell_type": "markdown",
      "metadata": {},
      "source": [
        "\n# Uniform Prior, single observation\n"
      ]
    },
    {
      "cell_type": "code",
      "execution_count": null,
      "metadata": {
        "collapsed": false
      },
      "outputs": [],
      "source": [
        "# sphinx_gallery_thumbnail_number = -1\nimport arviz as az\nimport matplotlib.pyplot as plt\nimport pyro\nimport torch\n\nfrom gempy_probability.plot_posterior import PlotPosterior\n\nfrom _aux_func import infer_model\n\naz.style.use(\"arviz-doc\")\n\ny_obs = torch.tensor([2.12])\ny_obs_list = torch.tensor([2.12, 2.06, 2.08, 2.05, 2.08, 2.09,\n                           2.19, 2.07, 2.16, 2.11, 2.13, 1.92])\npyro.set_rng_seed(4003)"
      ]
    },
    {
      "cell_type": "code",
      "execution_count": null,
      "metadata": {
        "collapsed": false
      },
      "outputs": [],
      "source": [
        "az_data = infer_model(\n    distributions_family=\"uniform_distribution\",\n    data=y_obs\n)\n\naz.plot_trace(az_data)\nplt.show()"
      ]
    },
    {
      "cell_type": "code",
      "execution_count": null,
      "metadata": {
        "collapsed": false
      },
      "outputs": [],
      "source": [
        "p = PlotPosterior(az_data)\n\np.create_figure(figsize=(9, 5), joyplot=False, marginal=True, likelihood=True)\np.plot_marginal(\n    var_names=['$\\\\mu_{likelihood}$', '$\\\\sigma_{likelihood}$'],\n    plot_trace=False,\n    credible_interval=1,\n    kind='kde',\n    joint_kwargs={'contour': True, 'pcolormesh_kwargs': {}},\n    joint_kwargs_prior={'contour': False, 'pcolormesh_kwargs': {}}\n)\np.axjoin.set_xlim(1.96, 2.22)\np.plot_normal_likelihood(\n    mean='$\\mu_{likelihood}$',\n    std='$\\sigma_{likelihood}$',\n    obs='$y$',\n    iteration=-6,\n    hide_lines=True\n)\np.likelihood_axes.set_xlim(1.70, 2.40)\nplt.show()"
      ]
    },
    {
      "cell_type": "markdown",
      "metadata": {},
      "source": [
        "# License\nThe code in this case study is copyrighted by Miguel de la Varga and licensed under the new BSD (3-clause) license:\n\nhttps://opensource.org/licenses/BSD-3-Clause\n\nThe text and figures in this case study are copyrighted by Miguel de la Varga and licensed under the CC BY-NC 4.0 license:\n\nhttps://creativecommons.org/licenses/by-nc/4.0/\nMake sure to replace the links with actual hyperlinks if you're using a platform that supports it (e.g., Markdown or HTML). Otherwise, the plain URLs work fine for plain text.\n\n"
      ]
    }
  ],
  "metadata": {
    "kernelspec": {
      "display_name": "Python 3",
      "language": "python",
      "name": "python3"
    },
    "language_info": {
      "codemirror_mode": {
        "name": "ipython",
        "version": 3
      },
      "file_extension": ".py",
      "mimetype": "text/x-python",
      "name": "python",
      "nbconvert_exporter": "python",
      "pygments_lexer": "ipython3",
      "version": "3.10.12"
    }
  },
  "nbformat": 4,
  "nbformat_minor": 0
}