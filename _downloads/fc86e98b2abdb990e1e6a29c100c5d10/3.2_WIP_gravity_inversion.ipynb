{
  "cells": [
    {
      "cell_type": "code",
      "execution_count": null,
      "metadata": {
        "collapsed": false
      },
      "outputs": [],
      "source": [
        "%matplotlib inline\nfrom pyvista import set_plot_theme\nset_plot_theme('document')"
      ]
    },
    {
      "cell_type": "markdown",
      "metadata": {},
      "source": [
        "\n# GemPy 3: gravity inversion for normal fault model\n\nBased on `GemPy3_Tutorial_XX_fault_gravity.ipynb`\n\nFor installation, see the first notebook - here only repeated if running on Google Colab.\n"
      ]
    },
    {
      "cell_type": "code",
      "execution_count": null,
      "metadata": {
        "collapsed": false
      },
      "outputs": [],
      "source": [
        "# Importing GemPy and viewer\nimport gempy as gp\nimport gempy_viewer as gpv\nfrom gempy.core.data.enumerators import ExampleModel\nfrom gempy_engine.core.backend_tensor import BackendTensor"
      ]
    },
    {
      "cell_type": "markdown",
      "metadata": {},
      "source": [
        "And for some additional steps in this notebook:\n%%\nAuxiliary libraries\n\n"
      ]
    },
    {
      "cell_type": "code",
      "execution_count": null,
      "metadata": {
        "collapsed": false
      },
      "outputs": [],
      "source": [
        "import numpy as np\nimport matplotlib.pyplot as plt\nimport matplotlib.image as mpimg\nimport pandas as pd"
      ]
    },
    {
      "cell_type": "markdown",
      "metadata": {},
      "source": [
        "Packages for inversion\n%%\n\n"
      ]
    },
    {
      "cell_type": "code",
      "execution_count": null,
      "metadata": {
        "collapsed": false
      },
      "outputs": [],
      "source": [
        "import torch\nimport pyro\nimport pyro.distributions as dist\nfrom pyro.infer import MCMC, NUTS, Predictive\nimport arviz as az\nfrom _aux_funcs import plot_model_and_grav\n\nplt.rcParams['text.usetex'] = True"
      ]
    },
    {
      "cell_type": "markdown",
      "metadata": {},
      "source": [
        "# Set up Pyro model\n\n"
      ]
    },
    {
      "cell_type": "code",
      "execution_count": null,
      "metadata": {
        "collapsed": false
      },
      "outputs": [],
      "source": [
        "geo_model = gp.generate_example_model(ExampleModel.ONE_FAULT_GRAVITY, compute_model=True)\n\n\ndevice_loc = pd.DataFrame()\n# x_vals = np.arange(20, 191, 10)\nx_vals = np.linspace(20, 191, 6)\n\ndevice_loc['X'] = x_vals\ndevice_loc['Y'] = np.zeros_like(x_vals)\ndevice_loc['Z'] = 0  # Add a Z-coordinate\n\nresolution = geo_model.grid.regular_grid.resolution\n\nfig = plot_model_and_grav(\n    blocks=geo_model.solutions.raw_arrays.lith_block.reshape(resolution),\n    grav=geo_model.solutions.gravity.detach().numpy(),\n    x_vals=x_vals,\n    input_data=geo_model.surface_points_copy.df\n)\nfig.show()"
      ]
    },
    {
      "cell_type": "markdown",
      "metadata": {},
      "source": [
        "Define hyperparameters for the Bayesian geological model\nUse first: lateral position of fault only\n\n"
      ]
    },
    {
      "cell_type": "code",
      "execution_count": null,
      "metadata": {
        "collapsed": false
      },
      "outputs": [],
      "source": [
        "fault_1_x = torch.tensor(80.)\nfault_2_x = torch.tensor(110.)"
      ]
    },
    {
      "cell_type": "markdown",
      "metadata": {},
      "source": [
        "## Probabilistic model\n\n"
      ]
    },
    {
      "cell_type": "code",
      "execution_count": null,
      "metadata": {
        "collapsed": false
      },
      "outputs": [],
      "source": [
        "# @Miguel: how to adjust for input points as stochastic variables?\n\n\nBackendTensor.change_backend_gempy(\n    engine_backend=gp.data.AvailableBackends.PYTORCH,\n    use_gpu=True,\n    dtype=\"float32\"\n)\n\ndef gaussian_kernel(locations, length_scale, variance):\n    import torch\n    # Compute the squared Euclidean distance between each pair of points\n    locations = torch.tensor(locations.values, dtype=torch.float32)\n    distance_squared = torch.cdist(locations, locations, p=2.).pow(2.)\n    # Compute the covariance matrix using the Gaussian kernel\n    covariance_matrix = variance * torch.exp(-0.5 * distance_squared / length_scale ** 2)\n    return covariance_matrix\n\n\n# Configure the Pyro model for geological data\n# * These are density values for the geological model\ndensities_tensor = BackendTensor.t.array([2., 2., 3., 2.])\nprior_tensor = densities_tensor  # * This is the prior tensor\n\ncovariance_matrix = gaussian_kernel(  # * This is the likelihood function\n    locations=device_loc,\n    length_scale=torch.tensor(10, dtype=torch.float32),  # ! These are m!\n    variance=torch.tensor(.5 ** 2, dtype=torch.float32)  # ! These are in property units\n)\n\n# * This is the observed gravity data\nadapted_observed_grav = geo_model.solutions.gravity.detach().numpy()\n\n# Placing the tensor pointer in the rest of the model\ngeo_model.geophysics_input = gp.data.GeophysicsInput(\n    tz=geo_model.geophysics_input.tz,\n    densities=prior_tensor,\n)"
      ]
    },
    {
      "cell_type": "markdown",
      "metadata": {},
      "source": [
        "Define the Pyro probabilistic model for inversion\n\n"
      ]
    },
    {
      "cell_type": "code",
      "execution_count": null,
      "metadata": {
        "collapsed": false
      },
      "outputs": [],
      "source": [
        "def pyro_model(y_obs_list, interpolation_input):\n    \"\"\"\n    Pyro model representing the probabilistic aspects of the geological model.\n    \"\"\"\n    import gempy_engine\n\n    # * Prior definition\n    prior_mean = 2.62\n    mu_density = pyro.sample(\n        name=r'$\\mu_{\\text{density}}$',\n        fn=dist.Normal(\n            loc=prior_mean,\n            scale=torch.tensor(0.5, dtype=torch.float32))\n    )\n\n    # Changing the density of the first formation\n    geo_model.geophysics_input.densities = torch.index_put(\n        input=prior_tensor,\n        indices=(torch.tensor([0]),),\n        values=mu_density\n    )\n\n    # * Deterministic computation of the geological model\n    # GemPy does not have API for this yet so we need to compute\n    # the model directly by calling the engine\n    geo_model.solutions = gempy_engine.compute_model(\n        interpolation_input=interpolation_input,\n        options=geo_model.interpolation_options,\n        data_descriptor=geo_model.input_data_descriptor,\n        geophysics_input=geo_model.geophysics_input\n    )\n\n    simulated_geophysics = geo_model.solutions.gravity\n    pyro.deterministic(r'$\\mu_{gravity}$', simulated_geophysics)\n\n    # * Likelihood definition\n    pyro.sample(\n        name=\"obs\",\n        fn=dist.MultivariateNormal(simulated_geophysics, covariance_matrix),\n        obs=y_obs_list\n    )"
      ]
    },
    {
      "cell_type": "markdown",
      "metadata": {},
      "source": [
        "Prepare observed data for Pyro model and optimize mesh settings\n\n"
      ]
    },
    {
      "cell_type": "code",
      "execution_count": null,
      "metadata": {
        "collapsed": false
      },
      "outputs": [],
      "source": [
        "# TODO: This is going to be a problem, that 17 should be number of observations\nn_devices = device_loc.values.shape[0]\ny_obs_list = torch.tensor(adapted_observed_grav).view(1, n_devices)\n\n# Optimize for speed\ngeo_model.interpolation_options.mesh_extraction = False\ngeo_model.interpolation_options.number_octree_levels = 1\n\ngeo_model.grid.set_inactive(\"topography\")\ngeo_model.grid.set_inactive(\"octree\")"
      ]
    },
    {
      "cell_type": "markdown",
      "metadata": {},
      "source": [
        "Perform prior sampling and visualize the results\n\n"
      ]
    },
    {
      "cell_type": "code",
      "execution_count": null,
      "metadata": {
        "collapsed": false
      },
      "outputs": [],
      "source": [
        "PRIOR_PREDICTIVE_SAMPLES = 20\nINFERENCE_SAMPLES = 20\nPOSTERIOR_SAMPLES = 20\n\n\nif PRIOR_PREDICTIVE := True:\n    predictive_model = Predictive(\n        model=pyro_model,\n        num_samples=PRIOR_PREDICTIVE_SAMPLES\n    )\n    prior = predictive_model(\n        y_obs_list=y_obs_list,\n        interpolation_input=geo_model.interpolation_input_copy\n    )\n\n    data = az.from_pyro(prior=prior)\n    az.plot_trace(data.prior)\n    plt.show()"
      ]
    },
    {
      "cell_type": "markdown",
      "metadata": {},
      "source": [
        "Run Markov Chain Monte Carlo (MCMC) using the NUTS algorithm for probabilistic inversion\n\n"
      ]
    },
    {
      "cell_type": "code",
      "execution_count": null,
      "metadata": {
        "collapsed": false
      },
      "outputs": [],
      "source": [
        "pyro.primitives.enable_validation(is_validate=True)\nnuts_kernel = NUTS(pyro_model)\nmcmc = MCMC(nuts_kernel, num_samples=INFERENCE_SAMPLES, warmup_steps=20)\nmcmc.run(y_obs_list, interpolation_input=geo_model.interpolation_input_copy)"
      ]
    },
    {
      "cell_type": "markdown",
      "metadata": {},
      "source": [
        "Analyze posterior samples and predictives, and visualize the results\n\n"
      ]
    },
    {
      "cell_type": "code",
      "execution_count": null,
      "metadata": {
        "collapsed": false
      },
      "outputs": [],
      "source": [
        "posterior_samples = mcmc.get_samples(50)\nposterior_predictive = Predictive(pyro_model, posterior_samples)\nposterior_predictive = posterior_predictive(\n    y_obs_list=y_obs_list, \n    interpolation_input=geo_model.interpolation_input_copy\n)\n\ndata = az.from_pyro(\n    posterior=mcmc,\n    prior=prior,\n    posterior_predictive=posterior_predictive\n)\n\naz.plot_trace(data)\nplt.show()"
      ]
    },
    {
      "cell_type": "markdown",
      "metadata": {},
      "source": [
        "Create density plots for posterior and prior distributions\nThese plots provide insights into the parameter distributions and their changes.\n\n"
      ]
    },
    {
      "cell_type": "code",
      "execution_count": null,
      "metadata": {
        "collapsed": false
      },
      "outputs": [],
      "source": [
        "from gempy_probability.plot_posterior import default_red, default_blue\naz.plot_density(\n    data=[data, data.prior],\n    shade=.9,\n    hdi_prob=.99,\n    data_labels=[\"Posterior\", \"Prior\"],\n    colors=[default_red, default_blue],\n)\nplt.show()\n\nplt.rcParams['text.usetex'] = True"
      ]
    },
    {
      "cell_type": "code",
      "execution_count": null,
      "metadata": {
        "collapsed": false
      },
      "outputs": [],
      "source": [
        "az.plot_density(\n    data=[data.posterior_predictive, data.prior_predictive],\n    shade=.9,\n    var_names=[r'$\\mu_{\\text{gravity}}$'],\n    data_labels=[\"Posterior Predictive\", \"Prior Predictive\"],\n    colors=[default_red, default_blue],\n)\nplt.show()\n\npass"
      ]
    }
  ],
  "metadata": {
    "kernelspec": {
      "display_name": "Python 3",
      "language": "python",
      "name": "python3"
    },
    "language_info": {
      "codemirror_mode": {
        "name": "ipython",
        "version": 3
      },
      "file_extension": ".py",
      "mimetype": "text/x-python",
      "name": "python",
      "nbconvert_exporter": "python",
      "pygments_lexer": "ipython3",
      "version": "3.10.12"
    }
  },
  "nbformat": 4,
  "nbformat_minor": 0
}