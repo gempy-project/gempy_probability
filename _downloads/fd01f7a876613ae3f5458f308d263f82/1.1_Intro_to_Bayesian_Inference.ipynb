{
  "cells": [
    {
      "cell_type": "code",
      "execution_count": null,
      "metadata": {
        "collapsed": false
      },
      "outputs": [],
      "source": [
        "%matplotlib inline\nfrom pyvista import set_plot_theme\nset_plot_theme('document')"
      ]
    },
    {
      "cell_type": "markdown",
      "metadata": {},
      "source": [
        "\n# Normal Prior, several observations\n"
      ]
    },
    {
      "cell_type": "code",
      "execution_count": null,
      "metadata": {
        "collapsed": false
      },
      "outputs": [],
      "source": [
        "# sphinx_gallery_thumbnail_number = -1\n\nimport arviz as az\nimport matplotlib.pyplot as plt\nimport pyro\nimport torch\nfrom matplotlib.ticker import StrMethodFormatter\n\nfrom gempy_probability.plot_posterior import PlotPosterior\nfrom _aux_func import infer_model\n\ny_obs = torch.tensor([2.12])\ny_obs_list = torch.tensor([2.12, 2.06, 2.08, 2.05, 2.08, 2.09,\n                           2.19, 2.07, 2.16, 2.11, 2.13, 1.92])\npyro.set_rng_seed(4003)"
      ]
    },
    {
      "cell_type": "code",
      "execution_count": null,
      "metadata": {
        "collapsed": false
      },
      "outputs": [],
      "source": [
        "az_data = infer_model(\n    distributions_family=\"normal_distribution\",\n    data=y_obs_list\n)\naz.plot_trace(az_data)\nplt.show()"
      ]
    },
    {
      "cell_type": "code",
      "execution_count": null,
      "metadata": {
        "collapsed": false
      },
      "outputs": [],
      "source": [
        "p = PlotPosterior(az_data)\np.create_figure(figsize=(9, 3), joyplot=False, marginal=False)\np.plot_normal_likelihood('$\\mu$', '$\\sigma$', '$y$', iteration=-1, hide_bell=True)\np.likelihood_axes.set_xlim(1.90, 2.2)\np.likelihood_axes.xaxis.set_major_formatter(StrMethodFormatter('{x:,.2f}'))\nfor tick in p.likelihood_axes.get_xticklabels():\n    tick.set_rotation(45)\nplt.show()"
      ]
    },
    {
      "cell_type": "code",
      "execution_count": null,
      "metadata": {
        "collapsed": false
      },
      "outputs": [],
      "source": [
        "p = PlotPosterior(az_data)\np.create_figure(figsize=(9, 3), joyplot=False, marginal=False)\np.plot_normal_likelihood('$\\mu$', '$\\sigma$', '$y$', iteration=-1, hide_lines=True)\np.likelihood_axes.set_xlim(1.70, 2.40)\np.likelihood_axes.xaxis.set_major_formatter(StrMethodFormatter('{x:,.2f}'))\nfor tick in p.likelihood_axes.get_xticklabels():\n    tick.set_rotation(45)\nplt.show()"
      ]
    },
    {
      "cell_type": "code",
      "execution_count": null,
      "metadata": {
        "collapsed": false
      },
      "outputs": [],
      "source": [
        "p = PlotPosterior(az_data)\n\np.create_figure(figsize=(9, 9), joyplot=True, marginal=False, likelihood=False, n_samples=31)\np.plot_joy(('$\\mu$', '$\\sigma$'), '$y$', iteration=14)\nplt.show()"
      ]
    },
    {
      "cell_type": "code",
      "execution_count": null,
      "metadata": {
        "collapsed": false
      },
      "outputs": [],
      "source": [
        "p = PlotPosterior(az_data)\n\np.create_figure(figsize=(9, 5), joyplot=False, marginal=True, likelihood=True)\np.plot_marginal(\n    var_names=['$\\mu$', '$\\sigma$'],\n    plot_trace=False,\n    credible_interval=0.95,\n    kind='kde',\n    joint_kwargs={'contour': True, 'pcolormesh_kwargs': {}},\n    joint_kwargs_prior={'contour': False, 'pcolormesh_kwargs': {}})\n\np.plot_normal_likelihood('$\\mu$', '$\\sigma$', '$y$', iteration=-1, hide_lines=True)\np.likelihood_axes.set_xlim(1.70, 2.40)\n\nplt.show()"
      ]
    },
    {
      "cell_type": "markdown",
      "metadata": {},
      "source": [
        "# License\nThe code in this case study is copyrighted by Miguel de la Varga and licensed under the new BSD (3-clause) license:\n\nhttps://opensource.org/licenses/BSD-3-Clause\n\nThe text and figures in this case study are copyrighted by Miguel de la Varga and licensed under the CC BY-NC 4.0 license:\n\nhttps://creativecommons.org/licenses/by-nc/4.0/\nMake sure to replace the links with actual hyperlinks if you're using a platform that supports it (e.g., Markdown or HTML). Otherwise, the plain URLs work fine for plain text.\n\n"
      ]
    }
  ],
  "metadata": {
    "kernelspec": {
      "display_name": "Python 3",
      "language": "python",
      "name": "python3"
    },
    "language_info": {
      "codemirror_mode": {
        "name": "ipython",
        "version": 3
      },
      "file_extension": ".py",
      "mimetype": "text/x-python",
      "name": "python",
      "nbconvert_exporter": "python",
      "pygments_lexer": "ipython3",
      "version": "3.10.12"
    }
  },
  "nbformat": 4,
  "nbformat_minor": 0
}