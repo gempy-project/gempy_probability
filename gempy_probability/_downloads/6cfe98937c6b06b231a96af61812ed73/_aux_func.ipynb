{
  "cells": [
    {
      "cell_type": "code",
      "execution_count": null,
      "metadata": {
        "collapsed": false
      },
      "outputs": [],
      "source": [
        "%matplotlib inline\nfrom pyvista import set_plot_theme\nset_plot_theme('document')"
      ]
    },
    {
      "cell_type": "markdown",
      "metadata": {},
      "source": [
        "\n# Example of a Pyro model and inference\n"
      ]
    },
    {
      "cell_type": "code",
      "execution_count": null,
      "metadata": {
        "collapsed": false
      },
      "outputs": [],
      "source": [
        "# sphinx_gallery_thumbnail_number = -1"
      ]
    },
    {
      "cell_type": "code",
      "execution_count": null,
      "metadata": {
        "collapsed": false
      },
      "outputs": [],
      "source": [
        "import pyro\nimport pyro.distributions as dist\nfrom pyro.infer import MCMC, NUTS, Predictive\nimport arviz as az\n\n\ndef model(distributions_family, data):\n    if distributions_family == \"normal_distribution\":\n        mu = pyro.sample('$\\mu$', dist.Normal(2.07, 0.07))\n    elif distributions_family in \"uniform_distribution\":\n        mu = pyro.sample('$\\mu$', dist.Uniform(0, 10))\n    else:\n        raise ValueError(\"distributions_family must be either 'normal_distribution' or 'uniform_distribution'\")\n    sigma = pyro.sample('$\\sigma$', dist.Gamma(0.3, 3))\n    y = pyro.sample('$y$', dist.Normal(mu, sigma), obs=data)\n    return y\n\n\ndef infer_model(distributions_family, data):\n    # 1. Prior Sampling\n    prior = Predictive(model, num_samples=100)(distributions_family, data)\n    # 2. MCMC Sampling\n    nuts_kernel = NUTS(model)\n    mcmc = MCMC(nuts_kernel, num_samples=1000, warmup_steps=100)  # Assuming 1000 warmup steps\n    mcmc.run(distributions_family, data)\n    # Get posterior samples\n    posterior_samples = mcmc.get_samples(1100)\n    # 3. Sample from Posterior Predictive\n    posterior_predictive = Predictive(model, posterior_samples)(distributions_family, data)\n    # %%\n    az_data = az.from_pyro(\n        posterior=mcmc,\n        prior=prior,\n        posterior_predictive=posterior_predictive\n    )\n\n    return az_data"
      ]
    }
  ],
  "metadata": {
    "kernelspec": {
      "display_name": "Python 3",
      "language": "python",
      "name": "python3"
    },
    "language_info": {
      "codemirror_mode": {
        "name": "ipython",
        "version": 3
      },
      "file_extension": ".py",
      "mimetype": "text/x-python",
      "name": "python",
      "nbconvert_exporter": "python",
      "pygments_lexer": "ipython3",
      "version": "3.10.12"
    }
  },
  "nbformat": 4,
  "nbformat_minor": 0
}